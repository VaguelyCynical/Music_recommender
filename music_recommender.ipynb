{
 "cells": [
  {
   "cell_type": "markdown",
   "id": "67873037",
   "metadata": {},
   "source": [
    "# 🎧 Music Recommendation Using Audio Features"
   ]
  },
  {
   "cell_type": "markdown",
   "id": "c7e39173",
   "metadata": {},
   "source": [
    "\n",
    "This notebook demonstrates a content-based music recommendation system using extracted audio features from `.wav` files.\n",
    "It uses a pre-trained K-Nearest Neighbors (KNN) model to suggest songs similar to a user-uploaded track.\n"
   ]
  },
  {
   "cell_type": "code",
   "execution_count": null,
   "id": "ec093da6",
   "metadata": {},
   "outputs": [],
   "source": [
    "\n",
    "import os \n",
    "import pandas as pd\n",
    "import numpy as np\n",
    "import librosa\n",
    "from sklearn.preprocessing import StandardScaler\n",
    "from sklearn.neighbors import NearestNeighbors\n",
    "import joblib\n",
    "import matplotlib.pyplot as plt\n",
    "import seaborn as sns\n"
   ]
  },
  {
   "cell_type": "markdown",
   "id": "16fc9fab",
   "metadata": {},
   "source": [
    "## 🔧 Load Model and Feature Data"
   ]
  },
  {
   "cell_type": "code",
   "execution_count": null,
   "id": "1b0c7cc6",
   "metadata": {},
   "outputs": [],
   "source": [
    "\n",
    "FEATURE_CSV = \"features.csv\"\n",
    "MODEL_PATH = \"knn_model.joblib\"\n",
    "SCALER_PATH = \"scaler.joblib\"\n",
    "FEATURE_COLS_PATH = \"feature_cols.pkl\"\n",
    "\n",
    "scaler = joblib.load(SCALER_PATH)\n",
    "knn = joblib.load(MODEL_PATH)\n",
    "feature_cols = joblib.load(FEATURE_COLS_PATH)\n",
    "df = pd.read_csv(FEATURE_CSV)\n"
   ]
  },
  {
   "cell_type": "markdown",
   "id": "bd4db32f",
   "metadata": {},
   "source": [
    "## 🎚 Feature Extraction"
   ]
  },
  {
   "cell_type": "code",
   "execution_count": null,
   "id": "a7c9b201",
   "metadata": {},
   "outputs": [],
   "source": [
    "\n",
    "def extract_features(file_path):\n",
    "    y, sr = librosa.load(file_path, mono=True)\n",
    "    features = {\n",
    "        \"chroma_stft\": np.mean(librosa.feature.chroma_stft(y=y, sr=sr)),\n",
    "        \"rms\": np.mean(librosa.feature.rms(y=y)),  \n",
    "        \"spectral_centroid\": np.mean(librosa.feature.spectral_centroid(y=y, sr=sr)),\n",
    "        \"spectral_bandwidth\": np.mean(librosa.feature.spectral_bandwidth(y=y, sr=sr)),\n",
    "        \"rolloff\": np.mean(librosa.feature.spectral_rolloff(y=y, sr=sr)),\n",
    "        \"zero_crossing_rate\": np.mean(librosa.feature.zero_crossing_rate(y)),\n",
    "        \"tempo\": librosa.beat.tempo(y=y, sr=sr)[0],\n",
    "    }\n",
    "\n",
    "    mfccs = librosa.feature.mfcc(y=y, sr=sr, n_mfcc=20)\n",
    "    for i in range(1, 21):\n",
    "        features[f\"mfcc{i}\"] = np.mean(mfccs[i - 1])\n",
    "\n",
    "    return features\n"
   ]
  },
  {
   "cell_type": "markdown",
   "id": "7fd64f91",
   "metadata": {},
   "source": [
    "## 🤖 Recommend Similar Songs"
   ]
  },
  {
   "cell_type": "code",
   "execution_count": null,
   "id": "e094f7f5",
   "metadata": {},
   "outputs": [],
   "source": [
    "\n",
    "def recommend(file_path):\n",
    "    print(\"\\n📥 Extracting features from uploaded song...\")\n",
    "    input_features = extract_features(file_path)\n",
    "    input_df = pd.DataFrame([input_features])\n",
    "\n",
    "    print(\"\\n📊 Scaling features...\")\n",
    "    missing_cols = [col for col in feature_cols if col not in input_df.columns]\n",
    "    if missing_cols:\n",
    "        print(f\"\\n🚨 Missing features: {missing_cols}\")\n",
    "        print(\"✅ Available features:\", input_df.columns.tolist())\n",
    "        return\n",
    "\n",
    "    input_scaled = scaler.transform(input_df[feature_cols])\n",
    "    distances, indices = knn.kneighbors(input_scaled)\n",
    "\n",
    "    print(\"\\n🎵 Recommended Songs:\")\n",
    "    recommended_songs = df.iloc[indices[0]][[\"filename\", \"genre\"]].copy()\n",
    "    print(recommended_songs.to_string(index=False))\n",
    "\n",
    "    sns.barplot(y='filename', x='genre', data=recommended_songs, hue='genre', dodge=False, palette='coolwarm')\n",
    "    plt.title(\"Recommended Songs\")\n",
    "    plt.xlabel(\"Genre\")\n",
    "    plt.ylabel(\"Filename\")\n",
    "    plt.tight_layout()\n",
    "    plt.show()\n"
   ]
  },
  {
   "cell_type": "markdown",
   "id": "06fa6388",
   "metadata": {},
   "source": [
    "## 📂 Run the Recommendation"
   ]
  },
  {
   "cell_type": "code",
   "execution_count": null,
   "id": "4c4e0d5d",
   "metadata": {},
   "outputs": [],
   "source": [
    "\n",
    "# Example (Replace with your actual path)\n",
    "# path = \"path/to/your/song.wav\"\n",
    "# recommend(path)\n"
   ]
  }
 ],
 "metadata": {
  "language_info": {
   "name": "python"
  }
 },
 "nbformat": 4,
 "nbformat_minor": 5
}
